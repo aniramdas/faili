{
 "cells": [
  {
   "cell_type": "code",
   "execution_count": null,
   "metadata": {},
   "outputs": [],
   "source": [
    "import json"
   ]
  },
  {
   "cell_type": "code",
   "execution_count": null,
   "metadata": {},
   "outputs": [],
   "source": [
    "with open('D:/pydp-19/Downloads/purchase_log.txt', 'r') as file:\n",
    "    i = 0\n",
    "    purchases = {}\n",
    "    for line in file:\n",
    "        line.strip()\n",
    "        dict_1 = json.loads(line)\n",
    "        purchases[dict_1['user_id']] = dict_1['category']\n",
    "        i += 1\n",
    "        if i > 10:\n",
    "            break\n",
    "file.close()\n",
    "print(purchases)"
   ]
  },
  {
   "cell_type": "code",
   "execution_count": 9,
   "metadata": {},
   "outputs": [],
   "source": [
    "with open ('D:/pydp-19/Downloads/funnel.csv', 'w') as funnel:\n",
    "    with open ('D:/pydp-19/Downloads/visit_log.csv', 'r') as f:\n",
    "        for line in f:\n",
    "            list_f = line.strip().split(',')\n",
    "            if list_f[0] in list(purchases.keys()):\n",
    "                funnel.write(list_f[0] + ' ' + list_f[1] + ' ' + purchases[list_f[0]] + '\\n')"
   ]
  }
 ],
 "metadata": {
  "kernelspec": {
   "display_name": "Python 3",
   "language": "python",
   "name": "python3"
  },
  "language_info": {
   "codemirror_mode": {
    "name": "ipython",
    "version": 3
   },
   "file_extension": ".py",
   "mimetype": "text/x-python",
   "name": "python",
   "nbconvert_exporter": "python",
   "pygments_lexer": "ipython3",
   "version": "3.8.5"
  }
 },
 "nbformat": 4,
 "nbformat_minor": 4
}
